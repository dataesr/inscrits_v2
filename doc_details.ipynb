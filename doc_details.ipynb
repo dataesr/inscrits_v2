{
 "cells": [
  {
   "cell_type": "markdown",
   "id": "53d8eb0c",
   "metadata": {},
   "source": [
    "## Configuration\n",
    "***"
   ]
  },
  {
   "cell_type": "markdown",
   "id": "81f01ae7",
   "metadata": {},
   "source": [
    ">**Configuration des chemins d'accès au projet**\n",
    ">\n",
    ">* **input** contient les parquet SISE originaux\n",
    ">* **output** pour les fichiers en sortie\n",
    ">\n",
    ">Créer un fichier `config_path.py` contenant:\n",
    ">* PATH = racine du dossier *Inscrits*\n",
    ">* PATH_NOMEN = chemin au dossier contenant les tables de nomenclatures extraites au format json\n",
    "<br>\n",
    "\n",
    "<br>\n",
    "\n",
    ">**Configuration accès API**\n",
    ">\n",
    ">Dans le fichier `config_api.py`:\n",
    ">* Clé pour APi ODS\n",
    ">* Clé pour API Paysage"
   ]
  },
  {
   "cell_type": "markdown",
   "id": "655d6c02",
   "metadata": {},
   "source": [
    "## Variables\n",
    "***"
   ]
  },
  {
   "cell_type": "markdown",
   "id": "462eae82",
   "metadata": {},
   "source": [
    "> ### Sélection et formatage des variables (utils/config_sise.json)\n",
    ">\n",
    ">Pour chaque variable conservée:\n",
    ">- format\n",
    ">- nomenclature liée\n",
    ">- modalité des valeurs manquantes"
   ]
  },
  {
   "cell_type": "markdown",
   "id": "fab1b616",
   "metadata": {},
   "source": [
    "```Python\n",
    "[{\n",
    "    \"var_rgp\":\"BAC\",\n",
    "    \"var_sise\":\"acabac\",\n",
    "    \"n_data\":\"N_ACADEMIE_ET_ASSIMILE\",\n",
    "    \"format\":\"str\",\n",
    "    \"missing_value\":\"-1\",\n",
    "    \"empty\":\"\"\n",
    "},\n",
    "{\n",
    "    \"var_rgp\":\"BAC\",\n",
    "    \"var_sise\":\"anbac\",\n",
    "    \"n_data\":\"\",\n",
    "    \"format\":\"int\",\n",
    "    \"missing_value\":\"-1\",\n",
    "    \"empty\":\"\"\n",
    "},\n",
    "{\n",
    "    \"var_rgp\":\"BAC\",\n",
    "    \"var_sise\":\"bac\",\n",
    "    \"n_data\":\"N_BAC\",\n",
    "    \"format\":\"str\",\n",
    "    \"missing_value\":\"-1\",\n",
    "    \"empty\":\"\"\n",
    "},...]\n",
    "```"
   ]
  },
  {
   "cell_type": "markdown",
   "id": "94575d2d",
   "metadata": {},
   "source": []
  },
  {
   "cell_type": "markdown",
   "id": "1d7f85cf",
   "metadata": {},
   "source": [
    "\n",
    "## Nomenclatures \n",
    "\n",
    "*Mise à disposition des tables de nomenclatures nécessaires: BCN, googleSheet, paysage*\n",
    "***"
   ]
  },
  {
   "cell_type": "markdown",
   "id": "40f1d55e",
   "metadata": {},
   "source": [
    ">### BCN (reference_data/bcn.py)\n",
    ">\n",
    ">##### **Initialisation**\n",
    ">\n",
    ">*Actualisation de la BCN* <br>\n",
    ">\n",
    ">A chaque maj de SISE, extraire les tables de nomenclatures liées au SI. <br> Trois domaines: Etudiant, Geographique, inter-domaines.<br> Accès avec authentification: https://bcn-extraction.depp.education.fr/bcnextraction/liste-demandes\n",
    ">\n",
    ">*Traitement de l'extraction*\n",
    ">* Lecture de l'extraction (bcn_harvest)\n",
    ">* Ajout des tables non disponibles au dictionnaire BCN (bcn_complete)\n",
    ">\n",
    ">*Utilisation de la BCN dans le programme*\n",
    ">* Importer le dictionnaire BCN -> `get_all_bcn()` ou `reference_data_loader('bcn')`\n",
    ">* Lecture d'une table spécifique `BCN['N_BAC']`\n",
    "<br>"
   ]
  },
  {
   "cell_type": "markdown",
   "id": "3d774a43",
   "metadata": {},
   "source": [
    ">### PAYSAGE (reference_data/paysage.py)\n",
    ">\n",
    ">##### **Initialisation** <br>\n",
    ">\n",
    ">*Actualisation des tables Paysage*\n",
    ">* Script de chargement d'une table ODS au format json: `get_paysageODS(identifiant_du_dataset_ods, nom_dataset_sauvegarde)`\n",
    ">* Lecture d'une table paysage au format json: `get_paysage(nom_du_dataset_sauvegrade)` ou `reference_data_loader('paysage_id')`\n",
    "<br>"
   ]
  }
 ],
 "metadata": {
  "kernelspec": {
   "display_name": ".venv",
   "language": "python",
   "name": "python3"
  },
  "language_info": {
   "codemirror_mode": {
    "name": "ipython",
    "version": 3
   },
   "file_extension": ".py",
   "mimetype": "text/x-python",
   "name": "python",
   "nbconvert_exporter": "python",
   "pygments_lexer": "ipython3",
   "version": "3.13.0"
  }
 },
 "nbformat": 4,
 "nbformat_minor": 5
}
