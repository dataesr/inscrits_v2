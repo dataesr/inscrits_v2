{
 "cells": [
  {
   "cell_type": "code",
   "execution_count": null,
   "metadata": {},
   "outputs": [],
   "source": [
    "from config_path import PATH\n",
    "import pandas as pd\n"
   ]
  },
  {
   "cell_type": "code",
   "execution_count": null,
   "metadata": {},
   "outputs": [],
   "source": [
    "vars_sise = pd.read_pickle(f\"{PATH}output/items_by_vars2023.pkl\", compression='gzip')"
   ]
  },
  {
   "cell_type": "code",
   "execution_count": null,
   "metadata": {},
   "outputs": [],
   "source": [
    "vars_sise.loc[vars_sise.source=='inge'].variable.unique()"
   ]
  },
  {
   "cell_type": "code",
   "execution_count": null,
   "metadata": {},
   "outputs": [],
   "source": [
    "vars_sise.loc[(vars_sise.source=='inge')&(vars_sise.variable=='flag_meef')].item.unique()"
   ]
  },
  {
   "cell_type": "code",
   "execution_count": null,
   "metadata": {},
   "outputs": [],
   "source": [
    "vars_sise.variable.unique()\n"
   ]
  },
  {
   "cell_type": "code",
   "execution_count": null,
   "metadata": {},
   "outputs": [],
   "source": [
    "from utils.bcn_vars import vbcn\n",
    "from utils.bcn_load import bcn_complete\n",
    "bcn=bcn_complete()"
   ]
  },
  {
   "cell_type": "code",
   "execution_count": null,
   "metadata": {},
   "outputs": [],
   "source": [
    "vbcn={\n",
    "'bac':'N_BAC',\n",
    "'bac_rgrp':'N_BAC_REGROUPE_2', \n",
    "'bac_spe1':'N_SPECIALITE_BAC_2021_SISE',\n",
    "'bac_spe2':'N_SPECIALITE_BAC_2021_SISE',\n",
    "'conv':'N_CONVENTION',\n",
    "'curpar':'N_AUTRE_CURSUS_SISE',\n",
    "'cursus_lmd':'N_CURSUS',\n",
    "'cycle':'N_CYCLE_SISE',\n",
    "'degetu':'N_NIVEAU_FORMATION',\n",
    "'dipder':'N_DERNIER_DIPLOME_OBTENU',\n",
    "'diplom':'N_DIPLOME_SISE',\n",
    "'echang':'N_PROGRAMME_ECHANGE_INTERNATIO',\n",
    "'groupe':'N_GROUPE_DISCIPLINE_SISE',\n",
    "'inspr':'N_INSCRIPTION_PRINCIPALE',\n",
    "'nature':'N_NATURE_DIPLOME_SISE',\n",
    "'niveau':'N_ANNEE_DANS_FORMATION_SISE',\n",
    "'niveau_d':'N_NIVEAU_FORMATION',\n",
    "'niveau_f':'N_NIVEAU_FORMATION',\n",
    "'par_type':'N_PARCOURS_TYPE_SISE',\n",
    "'regime':'N_REGIME_INSCRIPTION',\n",
    "'sectdis':'N_SECTEUR_DISCIPLINAIRE_SISE',\n",
    "'situpre':'N_SITUATION_ANNEE_PRECEDENTE',\n",
    "'specia':'N_SPECIALISATION',\n",
    "'specib':'N_SPECIALISATION',\n",
    "'specic':'N_SPECIALISATION',\n",
    "'sexe':'N_SEXE',\n",
    "'typ_dipl':'N_TYPE_DIPLOME_SISE',\n",
    "'typrepa':'N_TYPE_CLASSE_PREPA_SISE',\n",
    "'voie':'N_VOIE_LMD'\n",
    "}"
   ]
  },
  {
   "cell_type": "code",
   "execution_count": null,
   "metadata": {},
   "outputs": [],
   "source": [
    "\n",
    "hors_nomen=pd.DataFrame()\n",
    "for k,v in vbcn.items():\n",
    "    bcn[v].columns=bcn[v].columns.str.lower()\n",
    "    if k in bcn[v].columns:\n",
    "        l=bcn[v][k].unique()\n",
    "        # tmp=vars_sise.loc[(vars_sise.variable==k)&(~vars_sise.item.isin(l))].value_counts(vs_cols_base, dropna=False).reset_index()\n",
    "        # hors_nomen=pd.concat([hors_nomen, tmp], ignore_index=True)\n",
    "    else:\n",
    "        print(f\"- le nom de variable {k} n'existe pas dans {v}\\nla 1ere colonne est {bcn[v].iloc[:,0]}, le code suivant va extraire la 1ere colonne\")\n",
    "        l=bcn[v].iloc[:,0].unique()\n",
    "        tmp=vars_sise.loc[(vars_sise.variable==k)&(~vars_sise.item.isin(l))]\n",
    "        hors_nomen=pd.concat([hors_nomen, tmp], ignore_index=True)      \n",
    "\n",
    "hors_nomen=hors_nomen.pivot_table(index=['rentree', 'variable', 'item'], columns='source',   values='count', \n",
    "    aggfunc='sum').reset_index()\n",
    "hors_nomen.fillna('',inplace=True) "
   ]
  },
  {
   "cell_type": "code",
   "execution_count": null,
   "metadata": {},
   "outputs": [],
   "source": [
    "from test_py import work_csv\n",
    "work_csv(hors_nomen, 'modalites_hsn')"
   ]
  },
  {
   "cell_type": "code",
   "execution_count": null,
   "metadata": {},
   "outputs": [],
   "source": [
    "\n",
    "test=pd.DataFrame()\n",
    "for k,v in vbcn.items():\n",
    "    bcn[v].columns=bcn[v].columns.str.lower()\n",
    "    l=bcn[v].iloc[:,0].unique()\n",
    "    tmp=vars_sise.loc[(vars_sise.variable==k)&(~vars_sise.item.isin(l))].value_counts(vs_cols_base, dropna=False).reset_index()\n",
    "    # hors_nomen=pd.concat([hors_nomen, tmp], ignore_index=T:rue)   "
   ]
  },
  {
   "cell_type": "code",
   "execution_count": null,
   "metadata": {},
   "outputs": [],
   "source": [
    "# for k,v in vbcn.items():\n",
    "#     bcn[v].columns=bcn[v].columns.str.lower()\n",
    "#     l=bcn[v].iloc[:,0].unique()\n",
    "#     print(f\"{v} -> {l}\")"
   ]
  },
  {
   "cell_type": "code",
   "execution_count": null,
   "metadata": {},
   "outputs": [],
   "source": [
    "for i in bcn:\n",
    "    x=bcn[i]\n",
    "    print(f\"{i} -> {x.iloc[:,0].unique()}\")\n"
   ]
  },
  {
   "cell_type": "code",
   "execution_count": null,
   "metadata": {},
   "outputs": [],
   "source": [
    "bcn['N_REGIME_INSCRIPTION']"
   ]
  }
 ],
 "metadata": {
  "kernelspec": {
   "display_name": ".venv",
   "language": "python",
   "name": "python3"
  },
  "language_info": {
   "codemirror_mode": {
    "name": "ipython",
    "version": 3
   },
   "file_extension": ".py",
   "mimetype": "text/x-python",
   "name": "python",
   "nbconvert_exporter": "python",
   "pygments_lexer": "ipython3",
   "version": "3.13.0"
  }
 },
 "nbformat": 4,
 "nbformat_minor": 2
}
